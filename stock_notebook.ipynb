{
 "cells": [
  {
   "cell_type": "code",
   "execution_count": null,
   "id": "cd8aac1f",
   "metadata": {},
   "outputs": [],
   "source": [
    "from function import *\n",
    "import twstock\n",
    "import pandas as pd\n",
    "import warnings\n",
    "from tqdm import tqdm\n",
    "import yfinance as yf\n",
    "\n",
    "\n",
    "if __name__ == '__main__':\n",
    "\n",
    "    warnings.filterwarnings(\"ignore\")\n",
    "\n",
    "    sell_info = to_sell('2812', '2024-04-01', '2024-07-10', 19.1)\n",
    "    print(sell_info)\n",
    "    sell_info = to_sell('6257', '2024-04-01', '2024-07-11', 81.9)\n",
    "    print(sell_info)\n",
    "    sell_info = to_sell('2342', '2024-04-01', '2024-07-12', 34.15)\n",
    "    print(sell_info)\n",
    "\n",
    "    df = Parse_all_category_stocks()\n",
    "    category = ['all']\n",
    "    update_from_offline = True\n",
    "    update_from_online = True\n",
    "    stock_list = Update_potential_stock(\n",
    "        update_from_offline, update_from_online, category)\n",
    "    #\n",
    "    # link = df[df['Category'] == '半導體業']['link'].values\n",
    "    # links = df['link'].values\n",
    "    # stock_list = []\n",
    "    # for link in links:\n",
    "    #     stocks = Parse_certain_category_stocks(link)\n",
    "    #     stock_list.extend(stocks)\n",
    "\n",
    "    # stock_list = list(set(stock_list))  # remove duplicate items\n",
    "    to_buy_main(stock_list, '2024-04-01')\n",
    "\n",
    "    # plot and analysis\n",
    "    # figure_plot('3533', 2023, 1)\n"
   ]
  }
 ],
 "metadata": {
  "kernelspec": {
   "display_name": "Python 3",
   "language": "python",
   "name": "python3"
  },
  "language_info": {
   "codemirror_mode": {
    "name": "ipython",
    "version": 3
   },
   "file_extension": ".py",
   "mimetype": "text/x-python",
   "name": "python",
   "nbconvert_exporter": "python",
   "pygments_lexer": "ipython3",
   "version": "3.8.10"
  }
 },
 "nbformat": 4,
 "nbformat_minor": 5
}
